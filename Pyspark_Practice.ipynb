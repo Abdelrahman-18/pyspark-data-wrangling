{
  "cells": [
    {
      "cell_type": "code",
      "execution_count": 18,
      "metadata": {},
      "outputs": [],
      "source": [
        "from pyspark.sql import SparkSession\n",
        "from pyspark.sql import Row\n",
        "import  pyspark.sql.functions as fun \n",
        "import numpy as np\n",
        "from pyspark.sql.types import *\n",
        "from collections import Counter\n",
        "from pyspark.sql import functions as F\n"
      ]
    },
    {
      "cell_type": "code",
      "execution_count": 19,
      "metadata": {},
      "outputs": [],
      "source": [
        "spark = SparkSession.builder.getOrCreate()"
      ]
    },
    {
      "cell_type": "code",
      "execution_count": 20,
      "metadata": {},
      "outputs": [],
      "source": [
        "sc = spark.sparkContext"
      ]
    },
    {
      "cell_type": "markdown",
      "metadata": {},
      "source": [
        "Create an RDD from a list of numbers (1,50) using numpy methods"
      ]
    },
    {
      "cell_type": "code",
      "execution_count": 21,
      "metadata": {},
      "outputs": [
        {
          "name": "stdout",
          "output_type": "stream",
          "text": [
            "[1, 2, 3, 4, 5, 6, 7, 8, 9, 10, 11, 12, 13, 14, 15, 16, 17, 18, 19, 20, 21, 22, 23, 24, 25, 26, 27, 28, 29, 30, 31, 32, 33, 34, 35, 36, 37, 38, 39, 40, 41, 42, 43, 44, 45, 46, 47, 48, 49]\n"
          ]
        }
      ],
      "source": [
        "nums = np.arange(1, 50)\n",
        "\n",
        "rdd = sc.parallelize(nums.tolist())\n",
        "print(rdd.collect())"
      ]
    },
    {
      "cell_type": "markdown",
      "metadata": {},
      "source": [
        "Find the sum, average, maximum, minimum, and count"
      ]
    },
    {
      "cell_type": "code",
      "execution_count": 22,
      "metadata": {},
      "outputs": [
        {
          "name": "stdout",
          "output_type": "stream",
          "text": [
            "Sum: 1225\n"
          ]
        }
      ],
      "source": [
        "#Sum\n",
        "print(\"Sum:\", rdd.sum())\n",
        "\n",
        "\n"
      ]
    },
    {
      "cell_type": "code",
      "execution_count": 23,
      "metadata": {},
      "outputs": [
        {
          "name": "stdout",
          "output_type": "stream",
          "text": [
            "Average: 25.0\n"
          ]
        }
      ],
      "source": [
        "#Avgerage\n",
        "print(\"Average:\", rdd.mean())"
      ]
    },
    {
      "cell_type": "code",
      "execution_count": 24,
      "metadata": {},
      "outputs": [
        {
          "name": "stdout",
          "output_type": "stream",
          "text": [
            "Count: 49\n"
          ]
        }
      ],
      "source": [
        "#Count\n",
        "print(\"Count:\", rdd.count())\n"
      ]
    },
    {
      "cell_type": "code",
      "execution_count": 25,
      "metadata": {},
      "outputs": [
        {
          "name": "stdout",
          "output_type": "stream",
          "text": [
            "Min: 1\n"
          ]
        }
      ],
      "source": [
        "#Min\n",
        "print(\"Min:\", rdd.min())"
      ]
    },
    {
      "cell_type": "code",
      "execution_count": 26,
      "metadata": {},
      "outputs": [
        {
          "name": "stdout",
          "output_type": "stream",
          "text": [
            "Max: 49\n"
          ]
        }
      ],
      "source": [
        "#Max\n",
        "print(\"Max:\", rdd.max())"
      ]
    },
    {
      "cell_type": "markdown",
      "metadata": {},
      "source": [
        "Count how many numbers are even vs. odd."
      ]
    },
    {
      "cell_type": "code",
      "execution_count": 27,
      "metadata": {},
      "outputs": [
        {
          "name": "stdout",
          "output_type": "stream",
          "text": [
            "ODD Numbers: 25 EVEN Numbers: 24\n"
          ]
        }
      ],
      "source": [
        "odd_count = rdd.filter(lambda x: x % 2 != 0).count()\n",
        "even_count = rdd.filter(lambda x: x % 2 == 0).count()\n",
        "print(\"ODD Numbers:\", odd_count, \"EVEN Numbers:\", even_count)"
      ]
    },
    {
      "cell_type": "markdown",
      "metadata": {},
      "source": [
        "You have the following data of people info ('Name', 'Age'), answer the following questions"
      ]
    },
    {
      "cell_type": "code",
      "execution_count": 28,
      "metadata": {},
      "outputs": [
        {
          "data": {
            "text/plain": [
              "[('Nada ', 25),\n",
              " ('Mona', 30),\n",
              " ('Ahmed', 35),\n",
              " ('Khaled', 40),\n",
              " ('Ahmed', 35),\n",
              " ('Nada ', 25)]"
            ]
          },
          "execution_count": 28,
          "metadata": {},
          "output_type": "execute_result"
        }
      ],
      "source": [
        "people_data = [(\"Nada \", 25), (\"Mona\", 30), (\"Ahmed\", 35), (\"Khaled\", 40),(\"Ahmed\", 35), ('Nada ', 25)]\n",
        "rdd_people = sc.parallelize(people_data)\n",
        "rdd_people.collect()"
      ]
    },
    {
      "cell_type": "markdown",
      "metadata": {},
      "source": [
        "Find the oldest person"
      ]
    },
    {
      "cell_type": "code",
      "execution_count": 29,
      "metadata": {},
      "outputs": [
        {
          "name": "stdout",
          "output_type": "stream",
          "text": [
            "('Khaled', 40)\n"
          ]
        }
      ],
      "source": [
        "oldest = rdd_people.max(lambda x: x[1])\n",
        "print(oldest)"
      ]
    },
    {
      "cell_type": "markdown",
      "metadata": {},
      "source": [
        "Compute the average age"
      ]
    },
    {
      "cell_type": "code",
      "execution_count": 30,
      "metadata": {},
      "outputs": [
        {
          "name": "stdout",
          "output_type": "stream",
          "text": [
            "31.666666666666668\n"
          ]
        }
      ],
      "source": [
        "avg_age = rdd_people.map(lambda x: x[1]).mean() \n",
        "print(avg_age)"
      ]
    },
    {
      "cell_type": "markdown",
      "metadata": {},
      "source": [
        "Group all the names by their age"
      ]
    },
    {
      "cell_type": "code",
      "execution_count": 31,
      "metadata": {},
      "outputs": [
        {
          "name": "stdout",
          "output_type": "stream",
          "text": [
            "[(35, [('Ahmed', 35), ('Ahmed', 35)]), (40, [('Khaled', 40)]), (25, [('Nada ', 25), ('Nada ', 25)]), (30, [('Mona', 30)])]\n"
          ]
        }
      ],
      "source": [
        "age_grouped = rdd_people.groupBy(lambda x: x[1]).map(lambda x: (x[0], list(x[1])))\n",
        "print(age_grouped.collect())"
      ]
    },
    {
      "cell_type": "markdown",
      "metadata": {},
      "source": [
        "Take the following text and put it in a text file named russia.txt and load it into rdd\n",
        "\n",
        "\"Russia is the largest country in the world by land area\n",
        "Moscow is the capital city of Russia\n",
        "The Russian language is one of the most widely spoken languages in the world\n",
        "Russia is known for its rich history and culture\n",
        "The Trans-Siberian Railway is the longest railway line in the world\n",
        "Russia has a strong tradition in literature, music and ballet\n",
        "The country is famous for its cold winters and vast landscapes\n",
        "Russia is a major player in global energy production\n",
        "\""
      ]
    },
    {
      "cell_type": "code",
      "execution_count": 32,
      "metadata": {},
      "outputs": [
        {
          "name": "stdout",
          "output_type": "stream",
          "text": [
            "['Russia is the largest country in the world by land area', 'Moscow is the capital city of Russia', 'The Russian language is one of the most widely spoken languages in the world', 'Russia is known for its rich history and culture', 'The Trans-Siberian Railway is the longest railway line in the world', 'Russia has a strong tradition in literature, music and ballet', 'The country is famous for its cold winters and vast landscapes', 'Russia is a major player in global energy production']\n"
          ]
        }
      ],
      "source": [
        "rdd_russia = sc.textFile(\"/home/jovyan/work/russia.txt\")\n",
        "print(rdd_russia.collect())\n"
      ]
    },
    {
      "cell_type": "markdown",
      "metadata": {},
      "source": [
        "Count the total number of lines."
      ]
    },
    {
      "cell_type": "code",
      "execution_count": 33,
      "metadata": {},
      "outputs": [
        {
          "name": "stdout",
          "output_type": "stream",
          "text": [
            "8\n"
          ]
        }
      ],
      "source": [
        "line_count = rdd_russia.count()\n",
        "print(line_count)"
      ]
    },
    {
      "cell_type": "markdown",
      "metadata": {},
      "source": [
        "Count how many lines contain the word \"Russia\""
      ]
    },
    {
      "cell_type": "code",
      "execution_count": 34,
      "metadata": {},
      "outputs": [
        {
          "name": "stdout",
          "output_type": "stream",
          "text": [
            "6\n"
          ]
        }
      ],
      "source": [
        "russia_lines = rdd_russia.filter(lambda line: \"Russia\" in line).count()\n",
        "print(russia_lines)"
      ]
    },
    {
      "cell_type": "markdown",
      "metadata": {},
      "source": [
        "Find the most 5 frequent word in the file."
      ]
    },
    {
      "cell_type": "code",
      "execution_count": 35,
      "metadata": {},
      "outputs": [
        {
          "name": "stdout",
          "output_type": "stream",
          "text": [
            "[('is', 7), ('the', 7), ('Russia', 5), ('in', 5), ('world', 3)]\n"
          ]
        }
      ],
      "source": [
        "top_words = (rdd_russia\n",
        ".flatMap(lambda line: line.split()).map(lambda word: (word, 1)).reduceByKey(lambda a, b: a + b)           \n",
        ".sortBy(lambda x: x[1], ascending=False).take(5)                                     \n",
        ")\n",
        "\n",
        "print(top_words)\n"
      ]
    },
    {
      "cell_type": "markdown",
      "metadata": {},
      "source": [
        "Tokenize words"
      ]
    },
    {
      "cell_type": "code",
      "execution_count": 36,
      "metadata": {},
      "outputs": [
        {
          "name": "stdout",
          "output_type": "stream",
          "text": [
            "['Russia', 'is', 'the', 'largest', 'country', 'in', 'the', 'world', 'by', 'land', 'area', 'Moscow', 'is', 'the', 'capital', 'city', 'of', 'Russia', 'The', 'Russian', 'language', 'is', 'one', 'of', 'the', 'most', 'widely', 'spoken', 'languages', 'in', 'the', 'world', 'Russia', 'is', 'known', 'for', 'its', 'rich', 'history', 'and', 'culture', 'The', 'Trans-Siberian', 'Railway', 'is', 'the', 'longest', 'railway', 'line', 'in', 'the', 'world', 'Russia', 'has', 'a', 'strong', 'tradition', 'in', 'literature,', 'music', 'and', 'ballet', 'The', 'country', 'is', 'famous', 'for', 'its', 'cold', 'winters', 'and', 'vast', 'landscapes', 'Russia', 'is', 'a', 'major', 'player', 'in', 'global', 'energy', 'production']\n"
          ]
        }
      ],
      "source": [
        "tokens = (rdd_russia.flatMap(lambda line: line.split()).collect())                        \n",
        "print(tokens)"
      ]
    },
    {
      "cell_type": "markdown",
      "metadata": {},
      "source": [
        "Remove stopwords (a, the, is, to, in, of). "
      ]
    },
    {
      "cell_type": "code",
      "execution_count": 37,
      "metadata": {},
      "outputs": [
        {
          "name": "stdout",
          "output_type": "stream",
          "text": [
            "['Russia', 'largest', 'country', 'world', 'by', 'land', 'area', 'Moscow', 'capital', 'city', 'Russia', 'The', 'Russian', 'language', 'one', 'most', 'widely', 'spoken', 'languages', 'world', 'Russia', 'known', 'for', 'its', 'rich', 'history', 'and', 'culture', 'The', 'Trans-Siberian', 'Railway', 'longest', 'railway', 'line', 'world', 'Russia', 'has', 'strong', 'tradition', 'literature,', 'music', 'and', 'ballet', 'The', 'country', 'famous', 'for', 'its', 'cold', 'winters', 'and', 'vast', 'landscapes', 'Russia', 'major', 'player', 'global', 'energy', 'production']\n"
          ]
        }
      ],
      "source": [
        "stopwords = {\"a\", \"the\", \"is\", \"to\", \"in\", \"of\"}\n",
        "\n",
        "filtered_tokens = [word for word in tokens if word not in stopwords]\n",
        "print(filtered_tokens)"
      ]
    },
    {
      "cell_type": "markdown",
      "metadata": {},
      "source": [
        "Count the frequency of each word"
      ]
    },
    {
      "cell_type": "code",
      "execution_count": 38,
      "metadata": {},
      "outputs": [
        {
          "name": "stdout",
          "output_type": "stream",
          "text": [
            "[('Russia', 5), ('largest', 1), ('country', 2), ('world', 3), ('by', 1), ('land', 1), ('area', 1), ('Moscow', 1), ('capital', 1), ('city', 1), ('The', 3), ('Russian', 1), ('language', 1), ('one', 1), ('most', 1), ('widely', 1), ('spoken', 1), ('languages', 1), ('known', 1), ('for', 2), ('its', 2), ('rich', 1), ('history', 1), ('and', 3), ('culture', 1), ('Trans-Siberian', 1), ('Railway', 1), ('longest', 1), ('railway', 1), ('line', 1), ('has', 1), ('strong', 1), ('tradition', 1), ('literature,', 1), ('music', 1), ('ballet', 1), ('famous', 1), ('cold', 1), ('winters', 1), ('vast', 1), ('landscapes', 1), ('major', 1), ('player', 1), ('global', 1), ('energy', 1), ('production', 1)]\n"
          ]
        }
      ],
      "source": [
        "words_count = Counter(filtered_tokens)   \n",
        "print(list(words_count.items()))\n"
      ]
    },
    {
      "cell_type": "code",
      "execution_count": 39,
      "metadata": {},
      "outputs": [],
      "source": [
        "schema = 'id integer, name string, age integer, salary integer' \n",
        "data = [\n",
        "    (1, \"Ali\", 25, 4000),\n",
        "    (2, \"Mariam\", 30, 6000),\n",
        "    (3, \"Omar\", 35, 7000),\n",
        "    (4, \"Sara\", 28, 5000),\n",
        "    (5, \"Omar\", 25, 6500),\n",
        "    (6, \"Mariam\", 26, 7500)\n",
        "]\n",
        "\n",
        "df = spark.createDataFrame(data,schema)"
      ]
    },
    {
      "cell_type": "markdown",
      "metadata": {},
      "source": [
        "Show schema and first 2 rows"
      ]
    },
    {
      "cell_type": "code",
      "execution_count": 40,
      "metadata": {},
      "outputs": [
        {
          "name": "stdout",
          "output_type": "stream",
          "text": [
            "root\n",
            " |-- id: integer (nullable = true)\n",
            " |-- name: string (nullable = true)\n",
            " |-- age: integer (nullable = true)\n",
            " |-- salary: integer (nullable = true)\n",
            "\n",
            "+---+------+---+------+\n",
            "| id|  name|age|salary|\n",
            "+---+------+---+------+\n",
            "|  1|   Ali| 25|  4000|\n",
            "|  2|Mariam| 30|  6000|\n",
            "+---+------+---+------+\n",
            "only showing top 2 rows\n",
            "\n"
          ]
        }
      ],
      "source": [
        "df.printSchema()\n",
        "df.show(2)\n"
      ]
    },
    {
      "cell_type": "markdown",
      "metadata": {},
      "source": [
        "Select only name and salary"
      ]
    },
    {
      "cell_type": "code",
      "execution_count": 41,
      "metadata": {},
      "outputs": [
        {
          "name": "stdout",
          "output_type": "stream",
          "text": [
            "+------+------+\n",
            "|  name|salary|\n",
            "+------+------+\n",
            "|   Ali|  4000|\n",
            "|Mariam|  6000|\n",
            "|  Omar|  7000|\n",
            "|  Sara|  5000|\n",
            "|  Omar|  6500|\n",
            "|Mariam|  7500|\n",
            "+------+------+\n",
            "\n"
          ]
        }
      ],
      "source": [
        "df.select(\"name\", \"salary\").show()"
      ]
    },
    {
      "cell_type": "markdown",
      "metadata": {},
      "source": [
        "Find the average salary"
      ]
    },
    {
      "cell_type": "code",
      "execution_count": 42,
      "metadata": {},
      "outputs": [
        {
          "name": "stdout",
          "output_type": "stream",
          "text": [
            "+--------------+\n",
            "|average salary|\n",
            "+--------------+\n",
            "|        6000.0|\n",
            "+--------------+\n",
            "\n"
          ]
        }
      ],
      "source": [
        "df.select(F.avg(\"salary\").alias(\"average salary\")).show()\n"
      ]
    },
    {
      "cell_type": "markdown",
      "metadata": {},
      "source": [
        "Filter employees older than 28"
      ]
    },
    {
      "cell_type": "code",
      "execution_count": null,
      "metadata": {},
      "outputs": [
        {
          "name": "stdout",
          "output_type": "stream",
          "text": [
            "+---+------+---+------+\n",
            "| id|  name|age|salary|\n",
            "+---+------+---+------+\n",
            "|  2|Mariam| 30|  6000|\n",
            "|  3|  Omar| 35|  7000|\n",
            "+---+------+---+------+\n",
            "\n"
          ]
        }
      ],
      "source": [
        "df.filter(df.age > 28).show()\n"
      ]
    },
    {
      "cell_type": "markdown",
      "metadata": {},
      "source": [
        "Count distinct values in the name column"
      ]
    },
    {
      "cell_type": "code",
      "execution_count": null,
      "metadata": {},
      "outputs": [
        {
          "data": {
            "text/plain": [
              "4"
            ]
          },
          "execution_count": 46,
          "metadata": {},
          "output_type": "execute_result"
        }
      ],
      "source": [
        "df.select(\"name\").distinct().count()"
      ]
    },
    {
      "cell_type": "markdown",
      "metadata": {},
      "source": [
        "Group by a the name column and find average salary"
      ]
    },
    {
      "cell_type": "code",
      "execution_count": 47,
      "metadata": {},
      "outputs": [
        {
          "name": "stdout",
          "output_type": "stream",
          "text": [
            "+------+--------------+\n",
            "|  name|average_salary|\n",
            "+------+--------------+\n",
            "|   Ali|        4000.0|\n",
            "|Mariam|        6750.0|\n",
            "|  Omar|        6750.0|\n",
            "|  Sara|        5000.0|\n",
            "+------+--------------+\n",
            "\n"
          ]
        }
      ],
      "source": [
        "df.groupBy(\"name\").agg(F.avg(\"salary\").alias(\"average_salary\")).show()"
      ]
    },
    {
      "cell_type": "code",
      "execution_count": 48,
      "metadata": {},
      "outputs": [
        {
          "name": "stdout",
          "output_type": "stream",
          "text": [
            "+----+-----+-----+\n",
            "|  Id| Name|Sales|\n",
            "+----+-----+-----+\n",
            "|emp1| John| NULL|\n",
            "|emp2| NULL| NULL|\n",
            "|emp3| NULL|345.0|\n",
            "|emp4|Cindy|456.0|\n",
            "+----+-----+-----+\n",
            "\n"
          ]
        }
      ],
      "source": [
        "df1 = spark.read.csv(\"/home/jovyan/work/NullData.csv\", header=True, inferSchema=True) #this file in shared folder\n",
        "df1.show()"
      ]
    },
    {
      "cell_type": "markdown",
      "metadata": {},
      "source": [
        "Find the avg sales "
      ]
    },
    {
      "cell_type": "code",
      "execution_count": 49,
      "metadata": {},
      "outputs": [
        {
          "name": "stdout",
          "output_type": "stream",
          "text": [
            "400.5\n"
          ]
        }
      ],
      "source": [
        "\n",
        "avg_sales = df1.select(F.avg(\"Sales\").alias(\"average_sales\")).collect()[0][0]\n",
        "print(avg_sales)"
      ]
    },
    {
      "cell_type": "markdown",
      "metadata": {},
      "source": [
        "Replace null name with 'Unknown' and sales with the avg sales of the column "
      ]
    },
    {
      "cell_type": "code",
      "execution_count": 50,
      "metadata": {},
      "outputs": [
        {
          "name": "stdout",
          "output_type": "stream",
          "text": [
            "+----+-------+-----+\n",
            "|  Id|   Name|Sales|\n",
            "+----+-------+-----+\n",
            "|emp1|   John|400.5|\n",
            "|emp2|Unknown|400.5|\n",
            "|emp3|Unknown|345.0|\n",
            "|emp4|  Cindy|456.0|\n",
            "+----+-------+-----+\n",
            "\n"
          ]
        }
      ],
      "source": [
        "df_filled = df1.fillna({\"Name\": \"Unknown\", \"Sales\": avg_sales})\n",
        "\n",
        "df_filled.show()"
      ]
    }
  ],
  "metadata": {
    "anaconda-cloud": {},
    "colab": {
      "provenance": []
    },
    "kernelspec": {
      "display_name": "Python 3 (ipykernel)",
      "language": "python",
      "name": "python3"
    },
    "language_info": {
      "codemirror_mode": {
        "name": "ipython",
        "version": 3
      },
      "file_extension": ".py",
      "mimetype": "text/x-python",
      "name": "python",
      "nbconvert_exporter": "python",
      "pygments_lexer": "ipython3",
      "version": "3.11.6"
    }
  },
  "nbformat": 4,
  "nbformat_minor": 0
}
